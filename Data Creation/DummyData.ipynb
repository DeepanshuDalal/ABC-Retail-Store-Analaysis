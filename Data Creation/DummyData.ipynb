{
 "cells": [
  {
   "cell_type": "code",
   "execution_count": 23,
   "metadata": {},
   "outputs": [],
   "source": [
    "from faker import Faker\n",
    "import random\n",
    "import pandas as pd\n",
    "import datetime"
   ]
  },
  {
   "cell_type": "code",
   "execution_count": 2,
   "metadata": {},
   "outputs": [],
   "source": [
    "fake = Faker()"
   ]
  },
  {
   "cell_type": "code",
   "execution_count": 11,
   "metadata": {},
   "outputs": [
    {
     "data": {
      "text/plain": [
       "'Vincent Chavez'"
      ]
     },
     "execution_count": 11,
     "metadata": {},
     "output_type": "execute_result"
    }
   ],
   "source": [
    "fake.name()"
   ]
  },
  {
   "attachments": {},
   "cell_type": "markdown",
   "metadata": {},
   "source": [
    "Customer Data"
   ]
  },
  {
   "cell_type": "code",
   "execution_count": 120,
   "metadata": {},
   "outputs": [],
   "source": [
    "customer = {}\n",
    "\n",
    "customer[\"Names\"] = []\n",
    "customer[\"Gender\"] = []\n",
    "customer[\"Age\"] = []\n",
    "customer[\"Customer_ID\"] = []\n",
    "for id in range(1,251):\n",
    "    age = random.choice([age for age in range(18,65)])\n",
    "    gender = random.choice([\"Female\",\"Male\"])\n",
    "    if gender == 'Female':\n",
    "        name = fake.name_female()\n",
    "    else: \n",
    "        name = fake.name_male()\n",
    "\n",
    "    if name in customer[\"Names\"]:\n",
    "        continue\n",
    "    else:\n",
    "        customer[\"Names\"].append(name)\n",
    "\n",
    "    customer[\"Gender\"].append(gender)\n",
    "    customer[\"Age\"].append(age)\n",
    "    customer[\"Customer_ID\"].append(f\"C{id}\")\n"
   ]
  },
  {
   "cell_type": "code",
   "execution_count": 122,
   "metadata": {},
   "outputs": [],
   "source": [
    "customer_df = pd.DataFrame({\"Customer_ID\":customer[\"Customer_ID\"],\"Name\":customer[\"Names\"],\"Age\":customer[\"Age\"],\"Gender\":customer[\"Gender\"]})"
   ]
  },
  {
   "attachments": {},
   "cell_type": "markdown",
   "metadata": {},
   "source": [
    "Products Data"
   ]
  },
  {
   "cell_type": "code",
   "execution_count": 123,
   "metadata": {},
   "outputs": [],
   "source": [
    "products = {}\n",
    "prod_category = {\n",
    "    \"Grocery\": [\n",
    "        {\"Almonds\":50},\n",
    "        {\"Apples\":98},\n",
    "        {\"Cabbages\":30},\n",
    "        {\"Pulses\":120},\n",
    "        {\"Cheese\":25},\n",
    "        {\"Onions\":18},\n",
    "        {\"Bread\":12}\n",
    "        ],\n",
    "    \"Drinks\" : [\n",
    "        {\"Pepsi\":40},\n",
    "        {\"Red Bull\":80},\n",
    "        {\"Orange Juice\":60},\n",
    "        {\"Smoothie\":45},\n",
    "        {\"Milk\":36},\n",
    "        {\"Water\":8}\n",
    "        ],\n",
    "    \"Kitchen\": [\n",
    "        {\"Knife\":98},\n",
    "        {\"Gas Stove\":350},\n",
    "        {\"Induction\":520},\n",
    "        {\"Rice Cooker\":488}\n",
    "        ],\n",
    "    \"Personal Care\" : [\n",
    "        {\"Sunscreen\":69},\n",
    "        {\"Face Wash\":54},\n",
    "        {\"Hair Color\":49},\n",
    "        {\"Shaving Cream\":76},\n",
    "        {\"Moisturizer\":92}\n",
    "        ]\n",
    "}\n",
    "products[\"Product\"] = []\n",
    "products[\"Category\"] = []\n",
    "products[\"Price\"] = []\n",
    "products[\"Product_ID\"] = []\n",
    "id = 1\n",
    "for cat in prod_category: \n",
    "    for item in prod_category[cat]:\n",
    "        for product, price in item.items():\n",
    "            products[\"Product\"].append(product)\n",
    "            products[\"Category\"].append(cat)\n",
    "            products[\"Price\"].append(price)\n",
    "            products[\"Product_ID\"].append(f\"P{id}\")\n",
    "            id += 1"
   ]
  },
  {
   "cell_type": "code",
   "execution_count": 124,
   "metadata": {},
   "outputs": [],
   "source": [
    "product_df = pd.DataFrame({\"Product_ID\":products[\"Product_ID\"],\"Products\":products[\"Product\"],\"Category\":products[\"Category\"],\"Price\":products[\"Price\"]})"
   ]
  },
  {
   "cell_type": "code",
   "execution_count": 75,
   "metadata": {},
   "outputs": [
    {
     "data": {
      "text/html": [
       "<div>\n",
       "<style scoped>\n",
       "    .dataframe tbody tr th:only-of-type {\n",
       "        vertical-align: middle;\n",
       "    }\n",
       "\n",
       "    .dataframe tbody tr th {\n",
       "        vertical-align: top;\n",
       "    }\n",
       "\n",
       "    .dataframe thead th {\n",
       "        text-align: right;\n",
       "    }\n",
       "</style>\n",
       "<table border=\"1\" class=\"dataframe\">\n",
       "  <thead>\n",
       "    <tr style=\"text-align: right;\">\n",
       "      <th></th>\n",
       "      <th>Product_ID</th>\n",
       "      <th>Products</th>\n",
       "      <th>Category</th>\n",
       "      <th>Price</th>\n",
       "    </tr>\n",
       "  </thead>\n",
       "  <tbody>\n",
       "    <tr>\n",
       "      <th>0</th>\n",
       "      <td>P1</td>\n",
       "      <td>Almonds</td>\n",
       "      <td>Grocery</td>\n",
       "      <td>50</td>\n",
       "    </tr>\n",
       "    <tr>\n",
       "      <th>1</th>\n",
       "      <td>P2</td>\n",
       "      <td>Apples</td>\n",
       "      <td>Grocery</td>\n",
       "      <td>98</td>\n",
       "    </tr>\n",
       "    <tr>\n",
       "      <th>2</th>\n",
       "      <td>P3</td>\n",
       "      <td>Cabbages</td>\n",
       "      <td>Grocery</td>\n",
       "      <td>30</td>\n",
       "    </tr>\n",
       "    <tr>\n",
       "      <th>3</th>\n",
       "      <td>P4</td>\n",
       "      <td>Pulses</td>\n",
       "      <td>Grocery</td>\n",
       "      <td>120</td>\n",
       "    </tr>\n",
       "    <tr>\n",
       "      <th>4</th>\n",
       "      <td>P5</td>\n",
       "      <td>Cheese</td>\n",
       "      <td>Grocery</td>\n",
       "      <td>25</td>\n",
       "    </tr>\n",
       "  </tbody>\n",
       "</table>\n",
       "</div>"
      ],
      "text/plain": [
       "  Product_ID  Products Category  Price\n",
       "0         P1   Almonds  Grocery     50\n",
       "1         P2    Apples  Grocery     98\n",
       "2         P3  Cabbages  Grocery     30\n",
       "3         P4    Pulses  Grocery    120\n",
       "4         P5    Cheese  Grocery     25"
      ]
     },
     "execution_count": 75,
     "metadata": {},
     "output_type": "execute_result"
    }
   ],
   "source": [
    "product_df.head()"
   ]
  },
  {
   "attachments": {},
   "cell_type": "markdown",
   "metadata": {},
   "source": [
    "Sales"
   ]
  },
  {
   "cell_type": "code",
   "execution_count": 125,
   "metadata": {},
   "outputs": [],
   "source": [
    "sales = {}\n",
    "sales[\"Transaction_ID\"] = []\n",
    "sales[\"Date\"] = []\n",
    "sales[\"Quantity\"] = []\n",
    "sales[\"Amount\"] = []\n",
    "sales[\"Customer_ID\"] = []\n",
    "sales[\"Product_ID\"] = []\n",
    "start_date = datetime.date(2019, 6, 27)\n",
    "end_date = datetime.date.today()\n",
    "for rows in range(1,3001):\n",
    "    t_id = f\"t{rows}\"\n",
    "    c_id = random.choice(customer[\"Customer_ID\"])\n",
    "    p_id = random.choice(products[\"Product_ID\"])\n",
    "    date = start_date + datetime.timedelta(\n",
    "      seconds=random.randint(0, int((end_date - start_date).total_seconds())))\n",
    "    quantity = random.choices([1,2,3,4,5],weights=[50,25,15,10,5])[0]\n",
    "\n",
    "    price = product_df.Price[product_df.Product_ID == p_id].values[0]\n",
    "    amount = price * quantity\n",
    "    sales[\"Transaction_ID\"].append(t_id)\n",
    "    sales[\"Date\"].append(date)\n",
    "    sales[\"Quantity\"].append(quantity)\n",
    "    sales[\"Amount\"].append(amount)\n",
    "    sales[\"Customer_ID\"].append(c_id)\n",
    "    sales[\"Product_ID\"].append(p_id)\n",
    "    "
   ]
  },
  {
   "cell_type": "code",
   "execution_count": 126,
   "metadata": {},
   "outputs": [],
   "source": [
    "sales_df = pd.DataFrame({\"Transaction_ID\":sales[\"Transaction_ID\"],\"Customer_ID\":sales[\"Customer_ID\"],\"Product_Id\":sales[\"Product_ID\"],\"Date\":sales[\"Date\"],\"Quantity\":sales[\"Quantity\"],\"Amount\":sales[\"Amount\"]})"
   ]
  },
  {
   "cell_type": "code",
   "execution_count": 127,
   "metadata": {},
   "outputs": [
    {
     "data": {
      "text/html": [
       "<div>\n",
       "<style scoped>\n",
       "    .dataframe tbody tr th:only-of-type {\n",
       "        vertical-align: middle;\n",
       "    }\n",
       "\n",
       "    .dataframe tbody tr th {\n",
       "        vertical-align: top;\n",
       "    }\n",
       "\n",
       "    .dataframe thead th {\n",
       "        text-align: right;\n",
       "    }\n",
       "</style>\n",
       "<table border=\"1\" class=\"dataframe\">\n",
       "  <thead>\n",
       "    <tr style=\"text-align: right;\">\n",
       "      <th></th>\n",
       "      <th>Transaction_ID</th>\n",
       "      <th>Customer_ID</th>\n",
       "      <th>Product_Id</th>\n",
       "      <th>Date</th>\n",
       "      <th>Quantity</th>\n",
       "      <th>Amount</th>\n",
       "    </tr>\n",
       "  </thead>\n",
       "  <tbody>\n",
       "    <tr>\n",
       "      <th>2995</th>\n",
       "      <td>t2996</td>\n",
       "      <td>C180</td>\n",
       "      <td>P1</td>\n",
       "      <td>2019-10-11</td>\n",
       "      <td>2</td>\n",
       "      <td>100</td>\n",
       "    </tr>\n",
       "    <tr>\n",
       "      <th>2996</th>\n",
       "      <td>t2997</td>\n",
       "      <td>C68</td>\n",
       "      <td>P5</td>\n",
       "      <td>2021-12-01</td>\n",
       "      <td>1</td>\n",
       "      <td>25</td>\n",
       "    </tr>\n",
       "    <tr>\n",
       "      <th>2997</th>\n",
       "      <td>t2998</td>\n",
       "      <td>C131</td>\n",
       "      <td>P6</td>\n",
       "      <td>2019-08-11</td>\n",
       "      <td>2</td>\n",
       "      <td>36</td>\n",
       "    </tr>\n",
       "    <tr>\n",
       "      <th>2998</th>\n",
       "      <td>t2999</td>\n",
       "      <td>C161</td>\n",
       "      <td>P21</td>\n",
       "      <td>2021-04-13</td>\n",
       "      <td>2</td>\n",
       "      <td>152</td>\n",
       "    </tr>\n",
       "    <tr>\n",
       "      <th>2999</th>\n",
       "      <td>t3000</td>\n",
       "      <td>C99</td>\n",
       "      <td>P11</td>\n",
       "      <td>2022-04-29</td>\n",
       "      <td>5</td>\n",
       "      <td>225</td>\n",
       "    </tr>\n",
       "  </tbody>\n",
       "</table>\n",
       "</div>"
      ],
      "text/plain": [
       "     Transaction_ID Customer_ID Product_Id        Date  Quantity  Amount\n",
       "2995          t2996        C180         P1  2019-10-11         2     100\n",
       "2996          t2997         C68         P5  2021-12-01         1      25\n",
       "2997          t2998        C131         P6  2019-08-11         2      36\n",
       "2998          t2999        C161        P21  2021-04-13         2     152\n",
       "2999          t3000         C99        P11  2022-04-29         5     225"
      ]
     },
     "execution_count": 127,
     "metadata": {},
     "output_type": "execute_result"
    }
   ],
   "source": [
    "sales_df.tail()"
   ]
  },
  {
   "attachments": {},
   "cell_type": "markdown",
   "metadata": {},
   "source": [
    "Inventory"
   ]
  },
  {
   "cell_type": "code",
   "execution_count": 128,
   "metadata": {},
   "outputs": [],
   "source": [
    "invntory = {}\n",
    "invntory[\"Product_ID\"] = []\n",
    "invntory[\"Stock_Count\"] = []\n",
    "for prod in product_df.Product_ID:\n",
    "    num = random.randint(20,42)\n",
    "    weight = random.choices([300,500,800,1200,1800], weights=[30,60,120,100,80])[0]\n",
    "    stock = num * weight\n",
    "    invntory[\"Product_ID\"].append(prod)\n",
    "    invntory[\"Stock_Count\"].append(stock)"
   ]
  },
  {
   "cell_type": "code",
   "execution_count": 129,
   "metadata": {},
   "outputs": [],
   "source": [
    "inventory_df = pd.DataFrame({\"Product_ID\":invntory[\"Product_ID\"],\"Stock_Count\":invntory[\"Stock_Count\"]})"
   ]
  },
  {
   "attachments": {},
   "cell_type": "markdown",
   "metadata": {},
   "source": [
    "Final Touching"
   ]
  },
  {
   "cell_type": "code",
   "execution_count": 130,
   "metadata": {},
   "outputs": [
    {
     "data": {
      "text/html": [
       "<div>\n",
       "<style scoped>\n",
       "    .dataframe tbody tr th:only-of-type {\n",
       "        vertical-align: middle;\n",
       "    }\n",
       "\n",
       "    .dataframe tbody tr th {\n",
       "        vertical-align: top;\n",
       "    }\n",
       "\n",
       "    .dataframe thead th {\n",
       "        text-align: right;\n",
       "    }\n",
       "</style>\n",
       "<table border=\"1\" class=\"dataframe\">\n",
       "  <thead>\n",
       "    <tr style=\"text-align: right;\">\n",
       "      <th></th>\n",
       "      <th>Customer_ID</th>\n",
       "      <th>Name</th>\n",
       "      <th>Age</th>\n",
       "      <th>Gender</th>\n",
       "    </tr>\n",
       "  </thead>\n",
       "  <tbody>\n",
       "    <tr>\n",
       "      <th>0</th>\n",
       "      <td>C1</td>\n",
       "      <td>Samantha Campbell</td>\n",
       "      <td>24</td>\n",
       "      <td>Female</td>\n",
       "    </tr>\n",
       "    <tr>\n",
       "      <th>1</th>\n",
       "      <td>C2</td>\n",
       "      <td>Regina Powell</td>\n",
       "      <td>63</td>\n",
       "      <td>Female</td>\n",
       "    </tr>\n",
       "    <tr>\n",
       "      <th>2</th>\n",
       "      <td>C3</td>\n",
       "      <td>Tracy Adams</td>\n",
       "      <td>61</td>\n",
       "      <td>Female</td>\n",
       "    </tr>\n",
       "    <tr>\n",
       "      <th>3</th>\n",
       "      <td>C4</td>\n",
       "      <td>John Wilcox</td>\n",
       "      <td>41</td>\n",
       "      <td>Male</td>\n",
       "    </tr>\n",
       "    <tr>\n",
       "      <th>4</th>\n",
       "      <td>C5</td>\n",
       "      <td>Mary Adams</td>\n",
       "      <td>53</td>\n",
       "      <td>Female</td>\n",
       "    </tr>\n",
       "  </tbody>\n",
       "</table>\n",
       "</div>"
      ],
      "text/plain": [
       "  Customer_ID               Name  Age  Gender\n",
       "0          C1  Samantha Campbell   24  Female\n",
       "1          C2      Regina Powell   63  Female\n",
       "2          C3        Tracy Adams   61  Female\n",
       "3          C4        John Wilcox   41    Male\n",
       "4          C5         Mary Adams   53  Female"
      ]
     },
     "execution_count": 130,
     "metadata": {},
     "output_type": "execute_result"
    }
   ],
   "source": [
    "customer_df.head()"
   ]
  },
  {
   "cell_type": "code",
   "execution_count": 131,
   "metadata": {},
   "outputs": [
    {
     "data": {
      "text/plain": [
       "(250, 4)"
      ]
     },
     "execution_count": 131,
     "metadata": {},
     "output_type": "execute_result"
    }
   ],
   "source": [
    "customer_df.shape"
   ]
  },
  {
   "cell_type": "code",
   "execution_count": 132,
   "metadata": {},
   "outputs": [
    {
     "name": "stdout",
     "output_type": "stream",
     "text": [
      "<class 'pandas.core.frame.DataFrame'>\n",
      "RangeIndex: 250 entries, 0 to 249\n",
      "Data columns (total 4 columns):\n",
      " #   Column       Non-Null Count  Dtype \n",
      "---  ------       --------------  ----- \n",
      " 0   Customer_ID  250 non-null    object\n",
      " 1   Name         250 non-null    object\n",
      " 2   Age          250 non-null    int64 \n",
      " 3   Gender       250 non-null    object\n",
      "dtypes: int64(1), object(3)\n",
      "memory usage: 7.9+ KB\n"
     ]
    }
   ],
   "source": [
    "customer_df.info()"
   ]
  },
  {
   "cell_type": "code",
   "execution_count": 133,
   "metadata": {},
   "outputs": [
    {
     "data": {
      "text/html": [
       "<div>\n",
       "<style scoped>\n",
       "    .dataframe tbody tr th:only-of-type {\n",
       "        vertical-align: middle;\n",
       "    }\n",
       "\n",
       "    .dataframe tbody tr th {\n",
       "        vertical-align: top;\n",
       "    }\n",
       "\n",
       "    .dataframe thead th {\n",
       "        text-align: right;\n",
       "    }\n",
       "</style>\n",
       "<table border=\"1\" class=\"dataframe\">\n",
       "  <thead>\n",
       "    <tr style=\"text-align: right;\">\n",
       "      <th></th>\n",
       "      <th>Product_ID</th>\n",
       "      <th>Products</th>\n",
       "      <th>Category</th>\n",
       "      <th>Price</th>\n",
       "    </tr>\n",
       "  </thead>\n",
       "  <tbody>\n",
       "    <tr>\n",
       "      <th>0</th>\n",
       "      <td>P1</td>\n",
       "      <td>Almonds</td>\n",
       "      <td>Grocery</td>\n",
       "      <td>50</td>\n",
       "    </tr>\n",
       "    <tr>\n",
       "      <th>1</th>\n",
       "      <td>P2</td>\n",
       "      <td>Apples</td>\n",
       "      <td>Grocery</td>\n",
       "      <td>98</td>\n",
       "    </tr>\n",
       "    <tr>\n",
       "      <th>2</th>\n",
       "      <td>P3</td>\n",
       "      <td>Cabbages</td>\n",
       "      <td>Grocery</td>\n",
       "      <td>30</td>\n",
       "    </tr>\n",
       "    <tr>\n",
       "      <th>3</th>\n",
       "      <td>P4</td>\n",
       "      <td>Pulses</td>\n",
       "      <td>Grocery</td>\n",
       "      <td>120</td>\n",
       "    </tr>\n",
       "    <tr>\n",
       "      <th>4</th>\n",
       "      <td>P5</td>\n",
       "      <td>Cheese</td>\n",
       "      <td>Grocery</td>\n",
       "      <td>25</td>\n",
       "    </tr>\n",
       "  </tbody>\n",
       "</table>\n",
       "</div>"
      ],
      "text/plain": [
       "  Product_ID  Products Category  Price\n",
       "0         P1   Almonds  Grocery     50\n",
       "1         P2    Apples  Grocery     98\n",
       "2         P3  Cabbages  Grocery     30\n",
       "3         P4    Pulses  Grocery    120\n",
       "4         P5    Cheese  Grocery     25"
      ]
     },
     "execution_count": 133,
     "metadata": {},
     "output_type": "execute_result"
    }
   ],
   "source": [
    "product_df.head()"
   ]
  },
  {
   "cell_type": "code",
   "execution_count": 134,
   "metadata": {},
   "outputs": [
    {
     "data": {
      "text/plain": [
       "(22, 4)"
      ]
     },
     "execution_count": 134,
     "metadata": {},
     "output_type": "execute_result"
    }
   ],
   "source": [
    "product_df.shape"
   ]
  },
  {
   "cell_type": "code",
   "execution_count": 135,
   "metadata": {},
   "outputs": [
    {
     "name": "stdout",
     "output_type": "stream",
     "text": [
      "<class 'pandas.core.frame.DataFrame'>\n",
      "RangeIndex: 22 entries, 0 to 21\n",
      "Data columns (total 4 columns):\n",
      " #   Column      Non-Null Count  Dtype \n",
      "---  ------      --------------  ----- \n",
      " 0   Product_ID  22 non-null     object\n",
      " 1   Products    22 non-null     object\n",
      " 2   Category    22 non-null     object\n",
      " 3   Price       22 non-null     int64 \n",
      "dtypes: int64(1), object(3)\n",
      "memory usage: 832.0+ bytes\n"
     ]
    }
   ],
   "source": [
    "product_df.info()"
   ]
  },
  {
   "cell_type": "code",
   "execution_count": 136,
   "metadata": {},
   "outputs": [
    {
     "data": {
      "text/html": [
       "<div>\n",
       "<style scoped>\n",
       "    .dataframe tbody tr th:only-of-type {\n",
       "        vertical-align: middle;\n",
       "    }\n",
       "\n",
       "    .dataframe tbody tr th {\n",
       "        vertical-align: top;\n",
       "    }\n",
       "\n",
       "    .dataframe thead th {\n",
       "        text-align: right;\n",
       "    }\n",
       "</style>\n",
       "<table border=\"1\" class=\"dataframe\">\n",
       "  <thead>\n",
       "    <tr style=\"text-align: right;\">\n",
       "      <th></th>\n",
       "      <th>Transaction_ID</th>\n",
       "      <th>Customer_ID</th>\n",
       "      <th>Product_Id</th>\n",
       "      <th>Date</th>\n",
       "      <th>Quantity</th>\n",
       "      <th>Amount</th>\n",
       "    </tr>\n",
       "  </thead>\n",
       "  <tbody>\n",
       "    <tr>\n",
       "      <th>0</th>\n",
       "      <td>t1</td>\n",
       "      <td>C74</td>\n",
       "      <td>P21</td>\n",
       "      <td>2020-01-08</td>\n",
       "      <td>1</td>\n",
       "      <td>76</td>\n",
       "    </tr>\n",
       "    <tr>\n",
       "      <th>1</th>\n",
       "      <td>t2</td>\n",
       "      <td>C143</td>\n",
       "      <td>P3</td>\n",
       "      <td>2023-01-31</td>\n",
       "      <td>1</td>\n",
       "      <td>30</td>\n",
       "    </tr>\n",
       "    <tr>\n",
       "      <th>2</th>\n",
       "      <td>t3</td>\n",
       "      <td>C89</td>\n",
       "      <td>P20</td>\n",
       "      <td>2023-06-14</td>\n",
       "      <td>2</td>\n",
       "      <td>98</td>\n",
       "    </tr>\n",
       "    <tr>\n",
       "      <th>3</th>\n",
       "      <td>t4</td>\n",
       "      <td>C150</td>\n",
       "      <td>P10</td>\n",
       "      <td>2022-04-03</td>\n",
       "      <td>4</td>\n",
       "      <td>240</td>\n",
       "    </tr>\n",
       "    <tr>\n",
       "      <th>4</th>\n",
       "      <td>t5</td>\n",
       "      <td>C73</td>\n",
       "      <td>P14</td>\n",
       "      <td>2020-02-16</td>\n",
       "      <td>1</td>\n",
       "      <td>98</td>\n",
       "    </tr>\n",
       "  </tbody>\n",
       "</table>\n",
       "</div>"
      ],
      "text/plain": [
       "  Transaction_ID Customer_ID Product_Id        Date  Quantity  Amount\n",
       "0             t1         C74        P21  2020-01-08         1      76\n",
       "1             t2        C143         P3  2023-01-31         1      30\n",
       "2             t3         C89        P20  2023-06-14         2      98\n",
       "3             t4        C150        P10  2022-04-03         4     240\n",
       "4             t5         C73        P14  2020-02-16         1      98"
      ]
     },
     "execution_count": 136,
     "metadata": {},
     "output_type": "execute_result"
    }
   ],
   "source": [
    "sales_df.head()"
   ]
  },
  {
   "cell_type": "code",
   "execution_count": 137,
   "metadata": {},
   "outputs": [
    {
     "data": {
      "text/plain": [
       "(3000, 6)"
      ]
     },
     "execution_count": 137,
     "metadata": {},
     "output_type": "execute_result"
    }
   ],
   "source": [
    "sales_df.shape"
   ]
  },
  {
   "cell_type": "code",
   "execution_count": 138,
   "metadata": {},
   "outputs": [
    {
     "name": "stdout",
     "output_type": "stream",
     "text": [
      "<class 'pandas.core.frame.DataFrame'>\n",
      "RangeIndex: 3000 entries, 0 to 2999\n",
      "Data columns (total 6 columns):\n",
      " #   Column          Non-Null Count  Dtype \n",
      "---  ------          --------------  ----- \n",
      " 0   Transaction_ID  3000 non-null   object\n",
      " 1   Customer_ID     3000 non-null   object\n",
      " 2   Product_Id      3000 non-null   object\n",
      " 3   Date            3000 non-null   object\n",
      " 4   Quantity        3000 non-null   int64 \n",
      " 5   Amount          3000 non-null   int64 \n",
      "dtypes: int64(2), object(4)\n",
      "memory usage: 140.8+ KB\n"
     ]
    }
   ],
   "source": [
    "sales_df.info()"
   ]
  },
  {
   "cell_type": "code",
   "execution_count": 139,
   "metadata": {},
   "outputs": [
    {
     "data": {
      "text/html": [
       "<div>\n",
       "<style scoped>\n",
       "    .dataframe tbody tr th:only-of-type {\n",
       "        vertical-align: middle;\n",
       "    }\n",
       "\n",
       "    .dataframe tbody tr th {\n",
       "        vertical-align: top;\n",
       "    }\n",
       "\n",
       "    .dataframe thead th {\n",
       "        text-align: right;\n",
       "    }\n",
       "</style>\n",
       "<table border=\"1\" class=\"dataframe\">\n",
       "  <thead>\n",
       "    <tr style=\"text-align: right;\">\n",
       "      <th></th>\n",
       "      <th>Product_ID</th>\n",
       "      <th>Stock_Count</th>\n",
       "    </tr>\n",
       "  </thead>\n",
       "  <tbody>\n",
       "    <tr>\n",
       "      <th>0</th>\n",
       "      <td>P1</td>\n",
       "      <td>64800</td>\n",
       "    </tr>\n",
       "    <tr>\n",
       "      <th>1</th>\n",
       "      <td>P2</td>\n",
       "      <td>48600</td>\n",
       "    </tr>\n",
       "    <tr>\n",
       "      <th>2</th>\n",
       "      <td>P3</td>\n",
       "      <td>22400</td>\n",
       "    </tr>\n",
       "    <tr>\n",
       "      <th>3</th>\n",
       "      <td>P4</td>\n",
       "      <td>32000</td>\n",
       "    </tr>\n",
       "    <tr>\n",
       "      <th>4</th>\n",
       "      <td>P5</td>\n",
       "      <td>32000</td>\n",
       "    </tr>\n",
       "  </tbody>\n",
       "</table>\n",
       "</div>"
      ],
      "text/plain": [
       "  Product_ID  Stock_Count\n",
       "0         P1        64800\n",
       "1         P2        48600\n",
       "2         P3        22400\n",
       "3         P4        32000\n",
       "4         P5        32000"
      ]
     },
     "execution_count": 139,
     "metadata": {},
     "output_type": "execute_result"
    }
   ],
   "source": [
    "inventory_df.head()"
   ]
  },
  {
   "cell_type": "code",
   "execution_count": 140,
   "metadata": {},
   "outputs": [
    {
     "data": {
      "text/plain": [
       "(22, 2)"
      ]
     },
     "execution_count": 140,
     "metadata": {},
     "output_type": "execute_result"
    }
   ],
   "source": [
    "inventory_df.shape"
   ]
  },
  {
   "cell_type": "code",
   "execution_count": 141,
   "metadata": {},
   "outputs": [
    {
     "name": "stdout",
     "output_type": "stream",
     "text": [
      "<class 'pandas.core.frame.DataFrame'>\n",
      "RangeIndex: 22 entries, 0 to 21\n",
      "Data columns (total 2 columns):\n",
      " #   Column       Non-Null Count  Dtype \n",
      "---  ------       --------------  ----- \n",
      " 0   Product_ID   22 non-null     object\n",
      " 1   Stock_Count  22 non-null     int64 \n",
      "dtypes: int64(1), object(1)\n",
      "memory usage: 480.0+ bytes\n"
     ]
    }
   ],
   "source": [
    "inventory_df.info()"
   ]
  },
  {
   "attachments": {},
   "cell_type": "markdown",
   "metadata": {},
   "source": [
    "Creating CSV Files"
   ]
  },
  {
   "cell_type": "code",
   "execution_count": null,
   "metadata": {},
   "outputs": [],
   "source": [
    "customer_df.to_csv(\"Data/customers.csv\")\n",
    "product_df.to_csv(\"Data/products.csv\")\n",
    "sales_df.to_csv(\"Data/sales.csv\")\n",
    "inventory_df.to_csv(\"Data/inventory.csv\")"
   ]
  }
 ],
 "metadata": {
  "kernelspec": {
   "display_name": "Python 3",
   "language": "python",
   "name": "python3"
  },
  "language_info": {
   "codemirror_mode": {
    "name": "ipython",
    "version": 3
   },
   "file_extension": ".py",
   "mimetype": "text/x-python",
   "name": "python",
   "nbconvert_exporter": "python",
   "pygments_lexer": "ipython3",
   "version": "3.10.2"
  },
  "orig_nbformat": 4
 },
 "nbformat": 4,
 "nbformat_minor": 2
}
